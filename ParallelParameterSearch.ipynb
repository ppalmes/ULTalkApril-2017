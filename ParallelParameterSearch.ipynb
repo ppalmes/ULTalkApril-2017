{
 "cells": [
  {
   "cell_type": "code",
   "execution_count": 96,
   "metadata": {
    "collapsed": false
   },
   "outputs": [],
   "source": [
    "nprocs()==1 && addprocs()\n",
    "\n",
    "@everywhere using Combine.Util: score, holdout,kfold\n",
    "@everywhere using Combine.Transformers: fit!,Pipeline,OneHotEncoder,Imputer\n",
    "@everywhere using Combine.Transformers.DecisionTreeWrapper: RandomForest,DecisionStumpAdaboost,PrunedTree\n",
    "@everywhere using Combine.Transformers.ScikitLearnWrapper.SKLLearner\n",
    "@everywhere using Combine.Transformers.EnsembleMethods\n",
    "@everywhere import RDatasets"
   ]
  },
  {
   "cell_type": "code",
   "execution_count": 84,
   "metadata": {
    "collapsed": false
   },
   "outputs": [
    {
     "name": "stderr",
     "output_type": "stream",
     "text": [
      "WARNING: redefining constant KNeighborsClassifier\n",
      "WARNING: redefining constant KNeighborsClassifier\n",
      "WARNING: redefining constant KNeighborsClassifier\n",
      "WARNING: redefining constant KNeighborsClassifier\n",
      "WARNING: redefining constant KNeighborsClassifier\n",
      "WARNING: redefining constant SVC\n",
      "WARNING: redefining constant SVC\n",
      "WARNING: redefining constant SVC\n",
      "WARNING: redefining constant SVC\n",
      "WARNING: redefining constant SVC\n"
     ]
    }
   ],
   "source": [
    "@everywhere using ScikitLearn\n",
    "@everywhere @sk_import neighbors: KNeighborsClassifier\n",
    "@everywhere @sk_import svm: SVC\n",
    "\n",
    "@everywhere adaLearner = DecisionStumpAdaboost(Dict(\n",
    "  # Output to train against\n",
    "  # (:class).\n",
    "  :output => :class,\n",
    "  # Options specific to this implementation.\n",
    "  :impl_options => Dict(\n",
    "    # Number of boosting iterations.\n",
    "    :num_iterations => 7\n",
    "  )\n",
    "))\n",
    "\n",
    "@everywhere rfLearner = RandomForest(Dict(\n",
    "  :output => :class,\n",
    "  :impl_options => Dict(\n",
    "    :num_subfeatures => nothing,\n",
    "    :num_trees => 10,\n",
    "    :partial_sampling => 0.7\n",
    "  )\n",
    "))\n",
    "\n",
    "@everywhere skLearner = SKLLearner(Dict(\n",
    "  :output => :class,\n",
    "  #:learner => \"KNeighborsClassifier\",\n",
    "  :learner => \"SVC\",\n",
    "  :impl_options => Dict()\n",
    "))\n",
    "\n",
    "@everywhere bestLearner = BestLearner(Dict(\n",
    "  :output => :class,\n",
    "  :partition_generator => (X, y) -> kfold(size(X, 1), 5),\n",
    "  :selection_function => (learner_partition_scores) -> findmax(mean(learner_partition_scores, 2))[2],      \n",
    "  :score_type => Real,\n",
    "  :learners => [PrunedTree(), RandomForest(),skLearner],\n",
    "  :learner_options_grid => nothing\n",
    "))\n",
    "\n",
    "@everywhere voteLearner = VoteEnsemble(Dict(\n",
    "  :output => :class,\n",
    "  # Learners in voting committee.\n",
    "  :learners => [RandomForest(),PrunedTree(), adaLearner,skLearner]\n",
    "));"
   ]
  },
  {
   "cell_type": "code",
   "execution_count": 85,
   "metadata": {
    "collapsed": false
   },
   "outputs": [
    {
     "name": "stderr",
     "output_type": "stream",
     "text": [
      "WARNING: Method definition stackerLearner(Any) in module Main at In[78]:1 overwritten at In[85]:1.\n",
      "WARNING: Method definition stackerLearner(Any) in module Main at In[78]:1 overwritten at In[85]:1.\n",
      "WARNING: Method definition stackerLearner(Any) in module Main at In[78]:1 overwritten at In[85]:1.\n",
      "WARNING: Method definition stackerLearner(Any) in module Main at In[78]:1 overwritten at In[85]:1.\n",
      "WARNING: Method definition stackerLearner(Any) in module Main at In[78]:1 overwritten at In[85]:1.\n"
     ]
    }
   ],
   "source": [
    "@everywhere stackerLearner(treeprop) = StackEnsemble(Dict(\n",
    "  :output => :class,\n",
    "  :learners => [PrunedTree(), DecisionStumpAdaboost(), RandomForest(),skLearner,voteLearner,bestLearner],\n",
    "  :stacker => RandomForest(),\n",
    "  # Proportion of training set left to train stacker itself.\n",
    "  :stacker_training_proportion => treeprop,\n",
    "  :keep_original_features => false\n",
    "));"
   ]
  },
  {
   "cell_type": "code",
   "execution_count": 86,
   "metadata": {
    "collapsed": false
   },
   "outputs": [
    {
     "name": "stderr",
     "output_type": "stream",
     "text": [
      "WARNING: Method definition processModel(Any) in module Main at In[79]:2 overwritten at In[86]:2.\n",
      "WARNING: Method definition processModel(Any) in module Main at In[79]:2 overwritten at In[86]:2.\n",
      "WARNING: Method definition processModel(Any) in module Main at In[79]:2 overwritten at In[86]:2.\n",
      "WARNING: Method definition processModel(Any) in module Main at In[79]:2 overwritten at In[86]:2.\n",
      "WARNING: Method definition processModel(Any) in module Main at In[79]:2 overwritten at In[86]:2.\n"
     ]
    }
   ],
   "source": [
    "@everywhere function processModel(learner)\n",
    "    iris = RDatasets.dataset(\"datasets\", \"iris\")\n",
    "    X = convert(Array, iris[[:SepalLength, :SepalWidth, :PetalLength, :PetalWidth]])\n",
    "    y = convert(Array, iris[:Species]);\n",
    "    (train_ind, test_ind) = holdout(size(X, 1), 0.3)\n",
    "    pipeline = Pipeline(Dict(\n",
    "            :transformers => [\n",
    "                OneHotEncoder(), # Encodes nominal features into numeric\n",
    "                Imputer(), # Imputes NA values\n",
    "                #StandardScaler(), # Standardizes features \n",
    "                learner # Predicts labels on instances\n",
    "            ]\n",
    "        ))\n",
    "    # Train\n",
    "    fit!(pipeline, X[train_ind, :], y[train_ind]);\n",
    "    # Predict\n",
    "    predictions = transform!(pipeline, X[test_ind, :]);\n",
    "    result = score(:accuracy, y[test_ind], predictions)\n",
    "    return(result)\n",
    "end"
   ]
  },
  {
   "cell_type": "code",
   "execution_count": 87,
   "metadata": {
    "collapsed": false
   },
   "outputs": [
    {
     "data": {
      "text/plain": [
       "86.66666666666667"
      ]
     },
     "execution_count": 87,
     "metadata": {},
     "output_type": "execute_result"
    }
   ],
   "source": [
    "learner=stackerLearner(0.9);processModel(learner)"
   ]
  },
  {
   "cell_type": "code",
   "execution_count": 100,
   "metadata": {
    "collapsed": false
   },
   "outputs": [
    {
     "name": "stdout",
     "output_type": "stream",
     "text": [
      "\tFrom worker 4:\t[prop mean(trials) std(trials)] = [0.6 95.4815 3.42695]\n",
      "\tFrom worker 3:\t[prop mean(trials) std(trials)] = [0.4 94.5185 3.72459]\n",
      "\tFrom worker 5:\t[prop mean(trials) std(trials)] = [0.8 95.7037 2.60551]\n",
      "\tFrom worker 2:\t[prop mean(trials) std(trials)] = [0.1 87.5556 18.1156]\n",
      "\tFrom worker 5:\t[prop mean(trials) std(trials)] = [0.9 92.8889 9.39915]\n",
      "\tFrom worker 3:\t[prop mean(trials) std(trials)] = [0.5 95.2593 3.85931]\n",
      "\tFrom worker 4:\t[prop mean(trials) std(trials)] = [0.7 94.2222 6.40881]\n",
      "\tFrom worker 2:\t[prop mean(trials) std(trials)] = [0.2 93.8519 5.91362]\n",
      "\tFrom worker 2:\t[prop mean(trials) std(trials)] = [0.3 95.5556 2.97571]\n"
     ]
    },
    {
     "data": {
      "text/plain": [
       "9×3 Array{Float64,2}:\n",
       " 0.1  87.5556  18.1156 \n",
       " 0.2  93.8519   5.91362\n",
       " 0.3  95.5556   2.97571\n",
       " 0.4  94.5185   3.72459\n",
       " 0.5  95.2593   3.85931\n",
       " 0.6  95.4815   3.42695\n",
       " 0.7  94.2222   6.40881\n",
       " 0.8  95.7037   2.60551\n",
       " 0.9  92.8889   9.39915"
      ]
     },
     "execution_count": 100,
     "metadata": {},
     "output_type": "execute_result"
    }
   ],
   "source": [
    "trpropTable=@parallel (vcat) for prop in [0.1,0.2,0.3,0.4,0.5,0.6,0.7,0.8,0.9]\n",
    "    trials = @parallel (vcat) for trial=1:30\n",
    "        learner=stackerLearner(prop)\n",
    "        res = processModel(learner)\n",
    "    end\n",
    "    @show [prop mean(trials) std(trials)]\n",
    "    [prop mean(trials) std(trials)]\n",
    "end"
   ]
  },
  {
   "cell_type": "code",
   "execution_count": 98,
   "metadata": {
    "collapsed": false
   },
   "outputs": [
    {
     "data": {
      "text/html": [
       "<table class=\"data-frame\"><thead><tr><th></th><th>Proportion</th><th>ACC</th><th>SD</th></tr></thead><tbody><tr><th>1</th><td>0.3</td><td>95.55555555555557</td><td>2.7715980642769926</td></tr><tr><th>2</th><td>0.8</td><td>95.55555555555554</td><td>2.095131203515694</td></tr><tr><th>3</th><td>0.6</td><td>95.33333333333334</td><td>3.2203059435976504</td></tr><tr><th>4</th><td>0.9</td><td>94.88888888888889</td><td>5.029405984227544</td></tr><tr><th>5</th><td>0.5</td><td>94.66666666666666</td><td>2.608417312838372</td></tr><tr><th>6</th><td>0.4</td><td>94.44444444444443</td><td>4.829038818668625</td></tr><tr><th>7</th><td>0.7</td><td>94.2222222222222</td><td>4.823354250696211</td></tr><tr><th>8</th><td>0.2</td><td>85.55555555555556</td><td>21.57705431648816</td></tr><tr><th>9</th><td>0.1</td><td>81.77777777777779</td><td>12.86417383472143</td></tr></tbody></table>"
      ],
      "text/plain": [
       "9×3 DataFrames.DataFrame\n",
       "│ Row │ Proportion │ ACC     │ SD      │\n",
       "├─────┼────────────┼─────────┼─────────┤\n",
       "│ 1   │ 0.3        │ 95.5556 │ 2.7716  │\n",
       "│ 2   │ 0.8        │ 95.5556 │ 2.09513 │\n",
       "│ 3   │ 0.6        │ 95.3333 │ 3.22031 │\n",
       "│ 4   │ 0.9        │ 94.8889 │ 5.02941 │\n",
       "│ 5   │ 0.5        │ 94.6667 │ 2.60842 │\n",
       "│ 6   │ 0.4        │ 94.4444 │ 4.82904 │\n",
       "│ 7   │ 0.7        │ 94.2222 │ 4.82335 │\n",
       "│ 8   │ 0.2        │ 85.5556 │ 21.5771 │\n",
       "│ 9   │ 0.1        │ 81.7778 │ 12.8642 │"
      ]
     },
     "execution_count": 98,
     "metadata": {},
     "output_type": "execute_result"
    }
   ],
   "source": [
    "using DataFrames\n",
    "sorted = sortrows(trpropTable,by=x->x[2],rev=true);\n",
    "sorted = DataFrame(sorted);\n",
    "rename!(sorted,Dict(:x1=>:Proportion,:x2=>:ACC,:x3=>:SD))"
   ]
  },
  {
   "cell_type": "code",
   "execution_count": null,
   "metadata": {
    "collapsed": true
   },
   "outputs": [],
   "source": []
  }
 ],
 "metadata": {
  "kernelspec": {
   "display_name": "Julia 0.5.0",
   "language": "julia",
   "name": "julia-0.5"
  },
  "language_info": {
   "file_extension": ".jl",
   "mimetype": "application/julia",
   "name": "julia",
   "version": "0.5.1"
  }
 },
 "nbformat": 4,
 "nbformat_minor": 2
}
