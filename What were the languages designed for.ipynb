{
 "cells": [
  {
   "cell_type": "markdown",
   "metadata": {
    "slideshow": {
     "slide_type": "slide"
    }
   },
   "source": [
    "# What were the languages designed for?"
   ]
  },
  {
   "cell_type": "markdown",
   "metadata": {
    "slideshow": {
     "slide_type": "slide"
    }
   },
   "source": [
    "## Fortran: for technical computing (1950s)\n",
    "## LISP: for symbolic programming (1958)\n",
    "## C: to write Unix OS (1970s)\n",
    "## IDL: for data analysis (1970s)\n",
    "## S or R: for statistical analysis (1976)\n",
    "## Matlab: for numerical computing (1984)\n",
    "## C++: for system programming, embedded, large systems (1978/1985)\n",
    "## PERL: for generating reports (1987)\n",
    "## Ruby: general purpose, object-oriented scripting language (1990)\n",
    "## Java: cross-platform, hand-held devices, interactive television (1991)\n",
    "## Python: for system administration, general-purpose programming  (1991)\n",
    "## Lua: for embedded systems, extend applications, customisation (1993)\n",
    "## Scala: as a better java (2004)\n",
    "## Julia: optimised for scientific computing, general purpose programming (2012)"
   ]
  }
 ],
 "metadata": {
  "celltoolbar": "Slideshow",
  "kernelspec": {
   "display_name": "Julia 0.5.0",
   "language": "julia",
   "name": "julia-0.5"
  },
  "language_info": {
   "file_extension": ".jl",
   "mimetype": "application/julia",
   "name": "julia",
   "version": "0.5.0"
  }
 },
 "nbformat": 4,
 "nbformat_minor": 2
}
