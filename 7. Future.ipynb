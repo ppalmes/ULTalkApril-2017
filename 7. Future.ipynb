{
 "cells": [
  {
   "cell_type": "markdown",
   "metadata": {
    "collapsed": true,
    "slideshow": {
     "slide_type": "slide"
    }
   },
   "source": [
    "# The Future\n",
    "\n",
    "## 1. Julia blurs the line between ordinary users, developers, and data scientists\n",
    "## 2. Increase productivity and brain cycles\n",
    "## 3. Fast development time\n",
    "## 4. Fast run time\n",
    "## 5. Fast exploratory time\n",
    "## 6. Promote reproducibility and documentation by employing easier workflow "
   ]
  }
 ],
 "metadata": {
  "celltoolbar": "Slideshow",
  "kernelspec": {
   "display_name": "Julia 0.5.0",
   "language": "julia",
   "name": "julia-0.5"
  },
  "language_info": {
   "file_extension": ".jl",
   "mimetype": "application/julia",
   "name": "julia",
   "version": "0.5.0"
  }
 },
 "nbformat": 4,
 "nbformat_minor": 2
}
