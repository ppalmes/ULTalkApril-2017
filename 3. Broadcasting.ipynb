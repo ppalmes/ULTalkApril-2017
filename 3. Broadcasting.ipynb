{
 "cells": [
  {
   "cell_type": "markdown",
   "metadata": {},
   "source": [
    "# Julia Broadcasting "
   ]
  },
  {
   "cell_type": "code",
   "execution_count": 113,
   "metadata": {
    "collapsed": false
   },
   "outputs": [
    {
     "name": "stderr",
     "output_type": "stream",
     "text": [
      "WARNING: Method definition f(Any) in module Main at In[38]:1 overwritten at In[113]:1.\n"
     ]
    },
    {
     "data": {
      "text/plain": [
       "f (generic function with 1 method)"
      ]
     },
     "execution_count": 113,
     "metadata": {},
     "output_type": "execute_result"
    }
   ],
   "source": [
    "f(x) = 3x^2 + 5x + 2\n"
   ]
  },
  {
   "cell_type": "code",
   "execution_count": 116,
   "metadata": {
    "collapsed": false
   },
   "outputs": [
    {
     "data": {
      "text/plain": [
       "10-element Array{Float64,1}:\n",
       " 4.24402\n",
       " 6.89813\n",
       " 7.775  \n",
       " 4.03661\n",
       " 9.39411\n",
       " 5.5462 \n",
       " 4.90245\n",
       " 4.68543\n",
       " 2.19573\n",
       " 7.41825"
      ]
     },
     "execution_count": 116,
     "metadata": {},
     "output_type": "execute_result"
    }
   ],
   "source": [
    "X=rand(10)\n",
    "@. X = f(X)"
   ]
  },
  {
   "cell_type": "code",
   "execution_count": 125,
   "metadata": {
    "collapsed": false
   },
   "outputs": [
    {
     "name": "stdout",
     "output_type": "stream",
     "text": [
      "  7.884273 seconds (52 allocations: 5.215 GB, 8.13% gc time)\n"
     ]
    }
   ],
   "source": [
    "X=rand(100000000);\n",
    "@@.  X .= f.(2 .* X.^2 .+ 6 .* X.^3 .- sqrt.(X));"
   ]
  },
  {
   "cell_type": "code",
   "execution_count": 126,
   "metadata": {
    "collapsed": false
   },
   "outputs": [
    {
     "name": "stdout",
     "output_type": "stream",
     "text": [
      " 46.584221 seconds (1.60 G allocations: 25.332 GB, 3.41% gc time)\n"
     ]
    }
   ],
   "source": [
    "X=rand(100000000);\n",
    "@time for i in eachindex(X)\n",
    "    x = X[i]\n",
    "    X[i] = f(2x^2 + 6x^3 - sqrt(x))\n",
    "end"
   ]
  },
  {
   "cell_type": "code",
   "execution_count": 124,
   "metadata": {
    "collapsed": false
   },
   "outputs": [
    {
     "name": "stdout",
     "output_type": "stream",
     "text": [
      "  0.036621 seconds (11.26 k allocations: 8.112 MB, 11.20% gc time)\n"
     ]
    }
   ],
   "source": [
    "X=rand(100000000);\n",
    "@time broadcast(x->f(2x^2+6x^3-sqrt(x)),X);"
   ]
  },
  {
   "cell_type": "code",
   "execution_count": 122,
   "metadata": {
    "collapsed": false
   },
   "outputs": [
    {
     "name": "stdout",
     "output_type": "stream",
     "text": [
      "  0.031364 seconds (15.58 k allocations: 1.442 MB)\n"
     ]
    }
   ],
   "source": [
    "X=rand(100000);\n",
    "@time map(x->f(2x^2+6x^3-sqrt(x)),X);"
   ]
  },
  {
   "cell_type": "code",
   "execution_count": null,
   "metadata": {
    "collapsed": true
   },
   "outputs": [],
   "source": [
    "@"
   ]
  }
 ],
 "metadata": {
  "kernelspec": {
   "display_name": "Julia 0.5.0",
   "language": "julia",
   "name": "julia-0.5"
  },
  "language_info": {
   "file_extension": ".jl",
   "mimetype": "application/julia",
   "name": "julia",
   "version": "0.5.0"
  }
 },
 "nbformat": 4,
 "nbformat_minor": 2
}
