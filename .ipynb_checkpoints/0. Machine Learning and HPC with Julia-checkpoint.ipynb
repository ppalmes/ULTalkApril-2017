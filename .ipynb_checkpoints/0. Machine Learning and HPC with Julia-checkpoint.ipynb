{
 "cells": [
  {
   "cell_type": "markdown",
   "metadata": {
    "slideshow": {
     "slide_type": "slide"
    }
   },
   "source": [
    "# Machine Learning and HPC with Julia\n",
    "## April 06, 2017\n",
    "#### Paulito Palmes \n",
    "(IBM Dublin Research Lab)\n"
   ]
  },
  {
   "cell_type": "markdown",
   "metadata": {
    "slideshow": {
     "slide_type": "slide"
    }
   },
   "source": [
    "# Outline\n",
    "\n",
    "## 1. Quick Overview of Julia Language\n",
    "\n",
    "- ### 1.1 [Parallel/Distributed Computing](./5. Parallel.ipynb)\n",
    "- ### 1.2 [JIT and Multiple Dispatch](./4. Multiple Dispatch.ipynb)\n",
    "- ### 1.3 [RCall/PyCall](./RCall-PyCall.ipynb)\n",
    "- ### 1.4 [ScikitLearn](./sklearn.ipynb)\n",
    "\n",
    "## 2. MetaModeling\n",
    "- ### 1.1 [Combine.jl](./2. MetaModeling.ipynb)\n",
    "- ### 1.2 [Parallel Parameter Search](./ParallelParameterSearch.ipynb)\n",
    "\n",
    "## 3. Direct Feedback Alignment\n",
    "- ### 3.1 [Overview](./DFA-slide.ipynb)\n",
    "- ### 3.2 [XOR Problem](./6. DFA.ipynb)\n",
    "- ### 3.3 [Digit Recognition Problem](./mnist.ipynb)\n",
    "- ### 3.4 [RBM](./RBM.ipynb)\n",
    "\n",
    "## 7. [The Future](./7. Future.ipynb)"
   ]
  }
 ],
 "metadata": {
  "celltoolbar": "Slideshow",
  "kernelspec": {
   "display_name": "Julia 0.5.0",
   "language": "julia",
   "name": "julia-0.5"
  },
  "language_info": {
   "file_extension": ".jl",
   "mimetype": "application/julia",
   "name": "julia",
   "version": "0.5.1"
  }
 },
 "nbformat": 4,
 "nbformat_minor": 2
}
